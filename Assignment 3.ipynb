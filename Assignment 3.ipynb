{
 "cells": [
  {
   "cell_type": "code",
   "execution_count": null,
   "id": "89b74707",
   "metadata": {},
   "outputs": [],
   "source": [
    "#Assignment 3\n",
    "#Student of Datatrained -Saurav\n",
    "#Student of Data Science"
   ]
  },
  {
   "cell_type": "code",
   "execution_count": 1,
   "id": "bb62f248",
   "metadata": {},
   "outputs": [],
   "source": [
    "#String functions in python\n",
    "#String functions\n",
    "#\n",
    "#name = \"Tesla\"\n",
    "#\n",
    "#name.lower()\n",
    "#\n",
    "#name.upper()\n",
    "#\n",
    "#len(name)\n",
    "#\n",
    "#name.capitalize()\n",
    "#\n",
    "#name.isalpha()"
   ]
  },
  {
   "cell_type": "code",
   "execution_count": 7,
   "id": "241e990e",
   "metadata": {},
   "outputs": [],
   "source": [
    "name=\"TeSla\""
   ]
  },
  {
   "cell_type": "code",
   "execution_count": 3,
   "id": "8d6363c6",
   "metadata": {},
   "outputs": [
    {
     "data": {
      "text/plain": [
       "'tesla'"
      ]
     },
     "execution_count": 3,
     "metadata": {},
     "output_type": "execute_result"
    }
   ],
   "source": [
    "name.lower()"
   ]
  },
  {
   "cell_type": "code",
   "execution_count": 4,
   "id": "a615f975",
   "metadata": {},
   "outputs": [
    {
     "data": {
      "text/plain": [
       "'TESLA'"
      ]
     },
     "execution_count": 4,
     "metadata": {},
     "output_type": "execute_result"
    }
   ],
   "source": [
    "name.upper()"
   ]
  },
  {
   "cell_type": "code",
   "execution_count": 5,
   "id": "e38a06b6",
   "metadata": {},
   "outputs": [
    {
     "data": {
      "text/plain": [
       "5"
      ]
     },
     "execution_count": 5,
     "metadata": {},
     "output_type": "execute_result"
    }
   ],
   "source": [
    "len(name)"
   ]
  },
  {
   "cell_type": "code",
   "execution_count": 8,
   "id": "7ed4b451",
   "metadata": {},
   "outputs": [
    {
     "data": {
      "text/plain": [
       "'Tesla'"
      ]
     },
     "execution_count": 8,
     "metadata": {},
     "output_type": "execute_result"
    }
   ],
   "source": [
    "name.capitalize()"
   ]
  },
  {
   "cell_type": "code",
   "execution_count": 9,
   "id": "f67fcba9",
   "metadata": {},
   "outputs": [
    {
     "data": {
      "text/plain": [
       "True"
      ]
     },
     "execution_count": 9,
     "metadata": {},
     "output_type": "execute_result"
    }
   ],
   "source": [
    "name.isalpha()"
   ]
  },
  {
   "cell_type": "code",
   "execution_count": 10,
   "id": "8d9158b1",
   "metadata": {},
   "outputs": [],
   "source": [
    "#starship = \"Enterprise\"\n",
    "#\n",
    "#starship.startswith(\"en\")\n",
    "#\n",
    "#starship.endswith(\"rise\")\n",
    "#\n",
    "## replace\n",
    "#\n",
    "##str.replace(old, new)"
   ]
  },
  {
   "cell_type": "code",
   "execution_count": 11,
   "id": "0af330d9",
   "metadata": {},
   "outputs": [],
   "source": [
    "starship=\"Enterprise\"\n"
   ]
  },
  {
   "cell_type": "code",
   "execution_count": 17,
   "id": "79efd9f6",
   "metadata": {},
   "outputs": [
    {
     "data": {
      "text/plain": [
       "True"
      ]
     },
     "execution_count": 17,
     "metadata": {},
     "output_type": "execute_result"
    }
   ],
   "source": [
    "starship.startswith(\"En\")\n"
   ]
  },
  {
   "cell_type": "code",
   "execution_count": 19,
   "id": "951daba2",
   "metadata": {},
   "outputs": [
    {
     "data": {
      "text/plain": [
       "True"
      ]
     },
     "execution_count": 19,
     "metadata": {},
     "output_type": "execute_result"
    }
   ],
   "source": [
    "starship.endswith(\"ise\")"
   ]
  },
  {
   "cell_type": "code",
   "execution_count": 20,
   "id": "b871673a",
   "metadata": {},
   "outputs": [
    {
     "data": {
      "text/plain": [
       "'Surprise'"
      ]
     },
     "execution_count": 20,
     "metadata": {},
     "output_type": "execute_result"
    }
   ],
   "source": [
    "starship.replace(\"Enterprise\",\"Surprise\")"
   ]
  },
  {
   "cell_type": "code",
   "execution_count": 22,
   "id": "ebc63126",
   "metadata": {},
   "outputs": [],
   "source": [
    "#string = \"Welcome Sir \"\n",
    "## original string\n",
    "#print(string)\n",
    "## with two Parameters\n",
    "#print(string.replace(\"Welcome\",\"GoodBye\"))"
   ]
  },
  {
   "cell_type": "code",
   "execution_count": 23,
   "id": "e36a6101",
   "metadata": {},
   "outputs": [],
   "source": [
    "string=\"Welcome ,sir \""
   ]
  },
  {
   "cell_type": "code",
   "execution_count": 24,
   "id": "2f7b5544",
   "metadata": {},
   "outputs": [
    {
     "name": "stdout",
     "output_type": "stream",
     "text": [
      "Welcome ,sir \n"
     ]
    }
   ],
   "source": [
    "print(string)"
   ]
  },
  {
   "cell_type": "code",
   "execution_count": 25,
   "id": "6fc543c9",
   "metadata": {},
   "outputs": [
    {
     "name": "stdout",
     "output_type": "stream",
     "text": [
      "Goodbye ,sir \n"
     ]
    }
   ],
   "source": [
    "print(string.replace(\"Welcome\",\"Goodbye\"))"
   ]
  },
  {
   "cell_type": "code",
   "execution_count": 26,
   "id": "cc46e22e",
   "metadata": {},
   "outputs": [],
   "source": [
    "#txt = \"I like bananas\"\n",
    "#x = txt.replace(\"bananas\", \"apples\")\n",
    "#print(x)"
   ]
  },
  {
   "cell_type": "code",
   "execution_count": 27,
   "id": "cedb2a35",
   "metadata": {},
   "outputs": [],
   "source": [
    "txt=\"I Like bananas\"\n",
    "x=txt.replace(\"bananas\",\"apple\")"
   ]
  },
  {
   "cell_type": "code",
   "execution_count": 28,
   "id": "ed554deb",
   "metadata": {},
   "outputs": [
    {
     "data": {
      "text/plain": [
       "'I Like apple'"
      ]
     },
     "execution_count": 28,
     "metadata": {},
     "output_type": "execute_result"
    }
   ],
   "source": [
    "x"
   ]
  },
  {
   "cell_type": "code",
   "execution_count": 29,
   "id": "8c60e5a2",
   "metadata": {},
   "outputs": [],
   "source": [
    "#phrase = \"the surprise is in here somewhere\"\n",
    "#phrase.find(\"surprise\")"
   ]
  },
  {
   "cell_type": "code",
   "execution_count": 31,
   "id": "ad131648",
   "metadata": {},
   "outputs": [],
   "source": [
    "phrase=(\"The Surprise is in here somewhere\")"
   ]
  },
  {
   "cell_type": "code",
   "execution_count": 33,
   "id": "837772a4",
   "metadata": {},
   "outputs": [
    {
     "data": {
      "text/plain": [
       "4"
      ]
     },
     "execution_count": 33,
     "metadata": {},
     "output_type": "execute_result"
    }
   ],
   "source": [
    "phrase.find(\"Surprise\")"
   ]
  },
  {
   "cell_type": "code",
   "execution_count": 34,
   "id": "a64ccd46",
   "metadata": {},
   "outputs": [],
   "source": [
    "#text = \"Hello World DataTrained\"\n",
    "## splits at space\n",
    "#print(text.split())\n",
    "#text = \"Hello,World, DataTrained\"\n",
    "## splits at ','\n",
    "#print(text.split(\", \"))\n",
    "#text = \"Hello,World:, DataTrained\"\n",
    "## Splits at ':'\n",
    "#print(text.split(\":\"))"
   ]
  },
  {
   "cell_type": "code",
   "execution_count": 35,
   "id": "7200ffc7",
   "metadata": {},
   "outputs": [],
   "source": [
    "txt=\"Hello World DataTrained\"\n"
   ]
  },
  {
   "cell_type": "code",
   "execution_count": 39,
   "id": "5829e36e",
   "metadata": {},
   "outputs": [
    {
     "name": "stdout",
     "output_type": "stream",
     "text": [
      "['Hello', 'World', 'DataTrained']\n"
     ]
    }
   ],
   "source": [
    "print(txt.split())"
   ]
  },
  {
   "cell_type": "code",
   "execution_count": 41,
   "id": "37c4951f",
   "metadata": {},
   "outputs": [
    {
     "name": "stdout",
     "output_type": "stream",
     "text": [
      "['Hello World DataTrained']\n"
     ]
    }
   ],
   "source": [
    "print(txt.split(\", \"))"
   ]
  },
  {
   "cell_type": "code",
   "execution_count": 46,
   "id": "ab535d56",
   "metadata": {},
   "outputs": [
    {
     "name": "stdout",
     "output_type": "stream",
     "text": [
      "['Hello World DataTrained']\n"
     ]
    }
   ],
   "source": [
    "print(txt.split(\":\"))"
   ]
  },
  {
   "cell_type": "code",
   "execution_count": 47,
   "id": "e7852628",
   "metadata": {},
   "outputs": [],
   "source": [
    "#Task:\n",
    "#1\n",
    "#Write a program that converts the following strings to lowercase:\n",
    "#\"Animals\", \"Badger\", \"Honey Bee\", \"Honey Badger\". Print each lowercase string on a separate line."
   ]
  },
  {
   "cell_type": "code",
   "execution_count": 60,
   "id": "9edc459c",
   "metadata": {},
   "outputs": [],
   "source": [
    "string1=\"Dog\""
   ]
  },
  {
   "cell_type": "code",
   "execution_count": 61,
   "id": "3ef04f7f",
   "metadata": {},
   "outputs": [
    {
     "data": {
      "text/plain": [
       "'dog'"
      ]
     },
     "execution_count": 61,
     "metadata": {},
     "output_type": "execute_result"
    }
   ],
   "source": [
    "string1.lower()"
   ]
  },
  {
   "cell_type": "code",
   "execution_count": 63,
   "id": "15d3148e",
   "metadata": {},
   "outputs": [
    {
     "name": "stdout",
     "output_type": "stream",
     "text": [
      "snake\n"
     ]
    }
   ],
   "source": [
    "string2=\"Snake\"\n",
    "print(string2.lower())"
   ]
  },
  {
   "cell_type": "code",
   "execution_count": 65,
   "id": "cb772185",
   "metadata": {},
   "outputs": [
    {
     "name": "stdout",
     "output_type": "stream",
     "text": [
      "honey dew\n"
     ]
    }
   ],
   "source": [
    "string3=\"Honey Dew\"\n",
    "print(string3.lower())"
   ]
  },
  {
   "cell_type": "code",
   "execution_count": 66,
   "id": "c2e82ed2",
   "metadata": {},
   "outputs": [],
   "source": [
    "#2\n",
    "#Write a program that prints out the result of .startswith(\"be\") on\n",
    "#each of the following strings:\n",
    "#string1 = \"Becomes\"\n",
    "#string2 = \"becomes\"\n",
    "#string3 = \"BEAR\"\n",
    "#string4 = \" bEautiful\""
   ]
  },
  {
   "cell_type": "code",
   "execution_count": 68,
   "id": "73cef1b4",
   "metadata": {},
   "outputs": [
    {
     "name": "stdout",
     "output_type": "stream",
     "text": [
      "False\n"
     ]
    }
   ],
   "source": [
    "string1=\"Becomes\"\n",
    "print(string1.startswith(\"be\"))"
   ]
  },
  {
   "cell_type": "code",
   "execution_count": 70,
   "id": "d255a1c3",
   "metadata": {},
   "outputs": [
    {
     "name": "stdout",
     "output_type": "stream",
     "text": [
      "True\n"
     ]
    }
   ],
   "source": [
    "string2=\"becomes\"\n",
    "print(string2.startswith(\"be\"))"
   ]
  },
  {
   "cell_type": "code",
   "execution_count": 71,
   "id": "f0e98ad8",
   "metadata": {},
   "outputs": [
    {
     "name": "stdout",
     "output_type": "stream",
     "text": [
      "False\n"
     ]
    }
   ],
   "source": [
    "string3=\"BEAR\"\n",
    "print(string3.startswith(\"be\"))"
   ]
  },
  {
   "cell_type": "code",
   "execution_count": 72,
   "id": "8a6cf912",
   "metadata": {},
   "outputs": [
    {
     "name": "stdout",
     "output_type": "stream",
     "text": [
      "True\n"
     ]
    }
   ],
   "source": [
    "string4=\"bear\"\n",
    "print(string4.startswith(\"be\"))"
   ]
  },
  {
   "cell_type": "code",
   "execution_count": 73,
   "id": "8931f009",
   "metadata": {},
   "outputs": [],
   "source": [
    "#3\n",
    "#Using the same four strings from above, write a program that\n",
    "#uses string methods to alter each string so that .startswith(\"be\")\n",
    "#returns True for all of them"
   ]
  },
  {
   "cell_type": "code",
   "execution_count": 85,
   "id": "6d6f6225",
   "metadata": {},
   "outputs": [
    {
     "name": "stdout",
     "output_type": "stream",
     "text": [
      "True\n"
     ]
    }
   ],
   "source": [
    "string1=\"Becomes\"\n",
    "s=string1.casefold()\n",
    "print(s.startswith(\"be\"))"
   ]
  },
  {
   "cell_type": "code",
   "execution_count": 86,
   "id": "7968f2b3",
   "metadata": {},
   "outputs": [
    {
     "name": "stdout",
     "output_type": "stream",
     "text": [
      "True\n"
     ]
    }
   ],
   "source": [
    "string2=\"becomes\"\n",
    "s=string2.casefold()\n",
    "print(string2.startswith(\"be\"))"
   ]
  },
  {
   "cell_type": "code",
   "execution_count": 87,
   "id": "60bcf17d",
   "metadata": {},
   "outputs": [
    {
     "name": "stdout",
     "output_type": "stream",
     "text": [
      "True\n"
     ]
    }
   ],
   "source": [
    "string3=\"BEAR\"\n",
    "s=string3.casefold()\n",
    "print(s.startswith(\"be\"))"
   ]
  },
  {
   "cell_type": "code",
   "execution_count": 88,
   "id": "b0bd4906",
   "metadata": {},
   "outputs": [
    {
     "name": "stdout",
     "output_type": "stream",
     "text": [
      "True\n"
     ]
    }
   ],
   "source": [
    "string4=\"bear\"\n",
    "s=string4.casefold()\n",
    "print(s.startswith(\"be\"))"
   ]
  },
  {
   "cell_type": "code",
   "execution_count": 89,
   "id": "c0d3da15",
   "metadata": {},
   "outputs": [],
   "source": [
    "#4 Write a program that takes input from the user and displays that\n",
    "#input back."
   ]
  },
  {
   "cell_type": "code",
   "execution_count": 91,
   "id": "9163f6b9",
   "metadata": {},
   "outputs": [
    {
     "name": "stdout",
     "output_type": "stream",
     "text": [
      "Enter a String Baby   I love You\n"
     ]
    }
   ],
   "source": [
    "s=input(\"Enter a String Baby   \")"
   ]
  },
  {
   "cell_type": "code",
   "execution_count": 92,
   "id": "c5de89c9",
   "metadata": {},
   "outputs": [],
   "source": [
    "#5\n",
    "# Write a program that takes input from the user and displays the\n",
    "#input in lowercase."
   ]
  },
  {
   "cell_type": "code",
   "execution_count": 95,
   "id": "56cdcefd",
   "metadata": {},
   "outputs": [
    {
     "name": "stdout",
     "output_type": "stream",
     "text": [
      "Enter Your Name Baby    I love Your Smile\n",
      "i love your smile\n"
     ]
    }
   ],
   "source": [
    "s=input(\"Enter Your Name Baby    \")\n",
    "p=s.casefold()\n",
    "print(p)"
   ]
  },
  {
   "cell_type": "code",
   "execution_count": 96,
   "id": "1c5391c9",
   "metadata": {},
   "outputs": [],
   "source": [
    "#6 Write a program that takes input from the user and displays the\n",
    "#number of characters/len in the input.\n"
   ]
  },
  {
   "cell_type": "code",
   "execution_count": 98,
   "id": "d53904a2",
   "metadata": {},
   "outputs": [
    {
     "name": "stdout",
     "output_type": "stream",
     "text": [
      "Enter Your Age Baby  My age is 23\n",
      "12\n"
     ]
    }
   ],
   "source": [
    "s=input(\"Enter Your Age Baby  \")\n",
    "print(len(s))"
   ]
  },
  {
   "cell_type": "code",
   "execution_count": null,
   "id": "21fe4ac6",
   "metadata": {},
   "outputs": [],
   "source": [
    "#Date-03-July-2022\n",
    "#Time=22:05"
   ]
  }
 ],
 "metadata": {
  "kernelspec": {
   "display_name": "Python 3 (ipykernel)",
   "language": "python",
   "name": "python3"
  },
  "language_info": {
   "codemirror_mode": {
    "name": "ipython",
    "version": 3
   },
   "file_extension": ".py",
   "mimetype": "text/x-python",
   "name": "python",
   "nbconvert_exporter": "python",
   "pygments_lexer": "ipython3",
   "version": "3.9.12"
  }
 },
 "nbformat": 4,
 "nbformat_minor": 5
}
